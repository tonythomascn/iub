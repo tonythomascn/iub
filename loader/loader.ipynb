{
 "cells": [
  {
   "cell_type": "code",
   "execution_count": 4,
   "metadata": {
    "collapsed": false
   },
   "outputs": [
    {
     "name": "stdout",
     "output_type": "stream",
     "text": [
      "The autoreload extension is already loaded. To reload it, use:\n",
      "  %reload_ext autoreload\n"
     ]
    }
   ],
   "source": [
    "%load_ext autoreload  \n",
    "%autoreload 2   # Reload all modules (except those excluded by %aimport) every time\n",
    "import sys"
   ]
  },
  {
   "cell_type": "code",
   "execution_count": 5,
   "metadata": {
    "collapsed": false
   },
   "outputs": [
    {
     "ename": "SyntaxError",
     "evalue": "invalid syntax (<ipython-input-5-1a84b33c7334>, line 7)",
     "output_type": "error",
     "traceback": [
      "\u001b[0;36m  File \u001b[0;32m\"<ipython-input-5-1a84b33c7334>\"\u001b[0;36m, line \u001b[0;32m7\u001b[0m\n\u001b[0;31m    except pymongo.errors.ConnnectionFailure, e:\u001b[0m\n\u001b[0m                                            ^\u001b[0m\n\u001b[0;31mSyntaxError\u001b[0m\u001b[0;31m:\u001b[0m invalid syntax\n"
     ]
    }
   ],
   "source": [
    "def createMongoClient(mongodb_host, mongodb_port):\n",
    "    from pymongo import MongoClient\n",
    "    try:\n",
    "        mongoclient = MongoClient('mongodb://' + mongodb_host + ':' + mongodb_port)\n",
    "        mongodb = mongoclient['local']\n",
    "        return mongodb\n",
    "    except pymongo.errors.ConnnectionFailure, e:\n",
    "        print('Could not connect to MongoDB: %s' % e)\n",
    "        sys.exit(2)"
   ]
  },
  {
   "cell_type": "code",
   "execution_count": null,
   "metadata": {
    "collapsed": true
   },
   "outputs": [],
   "source": [
    "mongodb_host = '127.0.0.1'\n",
    "mongodb_port = '27017'    \n",
    "#init mongodb collection\n",
    "mongodb = createMongoClient(mongodb_host, mongodb_port)\n",
    "try:\n",
    "     #fetch \n",
    "    wfdisc = mongodb['wfdisc']\n",
    "    arrivals = mongodb['arrival']\n",
    "    origins = mongodb['origin']\n",
    "    sites = mongodb['site']\n",
    "except pymongo.errors.CollectionInvalid, e:\n",
    "    print('Collection %s is not valid' % e)\n",
    "    sys.exit(1)\n",
    "    \n",
    "from obspy.core import UTCDateTime"
   ]
  }
 ],
 "metadata": {
  "anaconda-cloud": {},
  "kernelspec": {
   "display_name": "Python [py3k]",
   "language": "python",
   "name": "Python [py3k]"
  },
  "language_info": {
   "codemirror_mode": {
    "name": "ipython",
    "version": 3
   },
   "file_extension": ".py",
   "mimetype": "text/x-python",
   "name": "python",
   "nbconvert_exporter": "python",
   "pygments_lexer": "ipython3",
   "version": "3.5.2"
  }
 },
 "nbformat": 4,
 "nbformat_minor": 0
}
